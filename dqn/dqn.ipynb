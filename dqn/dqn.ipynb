{
 "cells": [
  {
   "cell_type": "code",
   "execution_count": 42,
   "metadata": {},
   "outputs": [],
   "source": [
    "import gym\n",
    "import tensorflow as tf\n",
    "import numpy as np \n",
    "import random"
   ]
  },
  {
   "cell_type": "code",
   "execution_count": 43,
   "metadata": {},
   "outputs": [
    {
     "name": "stderr",
     "output_type": "stream",
     "text": [
      "[2017-05-30 10:09:23,986] Making new env: Breakout-v0\n"
     ]
    }
   ],
   "source": [
    "env = gym.make('Breakout-v0')"
   ]
  },
  {
   "cell_type": "code",
   "execution_count": 44,
   "metadata": {},
   "outputs": [],
   "source": [
    "batch_size = 4\n",
    "num_actions = env.action_space.n\n",
    "num_episodes = 1\n",
    "ep = 0.1\n",
    "init_replay_size = 100\n",
    "num_iterations = 1\n",
    "batch_size = 4"
   ]
  },
  {
   "cell_type": "code",
   "execution_count": 113,
   "metadata": {},
   "outputs": [],
   "source": [
    "class Network() :\n",
    "    \n",
    "    def __init__(self, num_actions, scope='Network', summary_dir=None) :\n",
    "        self.num_actions = num_actions \n",
    "        \n",
    "        self.fw = None\n",
    "        if summary_dir :\n",
    "            self.fw = tf.summary.FileWriter(summary_dir)\n",
    "        \n",
    "        self.build_network()\n",
    "        \n",
    "    def build_network(self) :\n",
    "        self.img = tf.placeholder(tf.float32, shape=[None, 84, 84, 1], name=\"X\")\n",
    "        self.action_ix = tf.placeholder(tf.int32, shape=[None], name='action_ix')\n",
    "        self.td_target = tf.placeholder(tf.float32, shape=[None], name='Y')\n",
    "\n",
    "        conv1 = tf.layers.conv2d(inputs=self.img, filters=32, kernel_size=[8, 8], \n",
    "                                 strides=(4, 4), padding='SAME', activation=tf.nn.relu)\n",
    "        conv2 = tf.layers.conv2d(inputs=conv1, filters=64, kernel_size=[4, 4], \n",
    "                                 strides=(2, 2), padding='SAME', activation=tf.nn.relu)\n",
    "        conv3 = tf.layers.conv2d(inputs=conv2, filters=64, kernel_size=[3, 3], \n",
    "                                 strides=(1, 1), padding='SAME', activation=tf.nn.relu)\n",
    "\n",
    "        conv3_flat = tf.contrib.layers.flatten(conv3)\n",
    "        dense = tf.layers.dense(conv3_flat, units=1024)\n",
    "        self.action_vals = tf.layers.dense(dense, units=self.num_actions)\n",
    "\n",
    "        batch_size = tf.shape(self.img)[0]\n",
    "        gather_ix = tf.range(batch_size) * self.num_actions + self.action_ix\n",
    "        pred_action_val = tf.gather(tf.reshape(self.action_vals, [-1]), gather_ix)\n",
    "        \n",
    "        self.loss = tf.reduce_mean(tf.squared_difference(self.td_target, pred_action_val))\n",
    "        optimizer = tf.train.RMSPropOptimizer(0.00025, 0.99, 0.0, 1e-6)\n",
    "        self.global_step = tf.contrib.framework.get_global_step()\n",
    "        self.train_op = optimizer.minimize(self.loss, global_step=self.global_step)\n",
    "        \n",
    "        tf.summary.scalar('loss', self.loss)\n",
    "        self.summary_op = tf.summary.merge_all()\n",
    "    \n",
    "    def predict(self, sess, obs) :\n",
    "        net_input = obs \n",
    "        if obs.ndim == 3 :\n",
    "            net_input = np.expand_dims(obs, axis=0)\n",
    "            \n",
    "        action_values = sess.run(self.action_vals, {self.img:net_input})\n",
    "        return action_values\n",
    "\n",
    "    def update(self, sess, obs_t, A_ix, targets) :\n",
    "        print(obs_t.dtype)\n",
    "        summaries = sess.run([self.summary_op], \\\n",
    "                                      {self.img: obs_t, self.action_ix: A_ix, self.td_target: targets})\n",
    "#         print(obs_t.dtype)\n",
    "#         loss, _ = sess.run([self.loss, self.train_op], \\\n",
    "#                                       {self.img: obs_t, self.action_ix: A_ix, self.td_target: targets})\n",
    "#         print('here')\n",
    "        \n",
    "#         if self.fw :\n",
    "#             self.fw.add_summary(summaries, global_step)"
   ]
  },
  {
   "cell_type": "code",
   "execution_count": 91,
   "metadata": {},
   "outputs": [],
   "source": [
    "raw_imgs = tf.placeholder(tf.int8, shape=[210, 160, 3], name=\"raw_imgs\")\n",
    "grayscale = tf.image.rgb_to_grayscale(raw_imgs)\n",
    "resized = tf.image.resize_images(\n",
    "                grayscale, [84, 84], method=tf.image.ResizeMethod.NEAREST_NEIGHBOR)\n",
    "resized = tf.cast(resized, tf.float32)\n",
    "\n",
    "def preprocess(sess, obs) :\n",
    "    return sess.run(resized, {raw_imgs:obs})"
   ]
  },
  {
   "cell_type": "code",
   "execution_count": 92,
   "metadata": {
    "collapsed": true
   },
   "outputs": [],
   "source": [
    "def init_greedy_pi(Qnet) :\n",
    "    def pi(sess, obs) :\n",
    "\n",
    "        Qs = Qnet.predict(sess, obs)\n",
    "        greedy_action = np.argmax(Qs)\n",
    "\n",
    "        dist = np.ones(num_actions) * ep/num_actions\n",
    "        dist[greedy_action] += 1 - ep\n",
    "\n",
    "        return np.random.choice(num_actions, p=dist)\n",
    "    return pi"
   ]
  },
  {
   "cell_type": "code",
   "execution_count": 114,
   "metadata": {},
   "outputs": [],
   "source": [
    "Q_net = Network(num_actions, scope='Q', summary_dir='./summary/')\n",
    "# target_net = Network(num_actions, scope='Q_target')\n",
    "    \n",
    "pi = init_greedy_pi(Q_net)\n",
    "\n",
    "sess = tf.Session()\n",
    "sess.run(tf.global_variables_initializer())"
   ]
  },
  {
   "cell_type": "code",
   "execution_count": 94,
   "metadata": {},
   "outputs": [],
   "source": [
    "# populate initial replay memory\n",
    "\n",
    "# list of obs, action, reward\n",
    "replay_memory = []\n",
    "\n",
    "while len(replay_memory) < init_replay_size :\n",
    "    \n",
    "    done = False\n",
    "    obs_t = env.reset()\n",
    "    obs_t = preprocess(sess, obs_t)\n",
    "    while not done :\n",
    "        A_t = pi(sess, obs_t)\n",
    "        obs_tp1, R_tp1, done, info = env.step(A_t)\n",
    "        replay_memory.append([obs_t, A_t, R_tp1])\n",
    "        obs_t = preprocess(sess, obs_tp1)"
   ]
  },
  {
   "cell_type": "code",
   "execution_count": 115,
   "metadata": {
    "scrolled": true
   },
   "outputs": [
    {
     "name": "stdout",
     "output_type": "stream",
     "text": [
      "float32\n"
     ]
    },
    {
     "ename": "InvalidArgumentError",
     "evalue": "You must feed a value for placeholder tensor 'X_3' with dtype float\n\t [[Node: X_3 = Placeholder[dtype=DT_FLOAT, shape=[], _device=\"/job:localhost/replica:0/task:0/cpu:0\"]()]]\n\nCaused by op u'X_3', defined at:\n  File \"/Users/shaayaansayed/anaconda2/envs/rl/lib/python2.7/runpy.py\", line 174, in _run_module_as_main\n    \"__main__\", fname, loader, pkg_name)\n  File \"/Users/shaayaansayed/anaconda2/envs/rl/lib/python2.7/runpy.py\", line 72, in _run_code\n    exec code in run_globals\n  File \"/Users/shaayaansayed/anaconda2/envs/rl/lib/python2.7/site-packages/ipykernel_launcher.py\", line 16, in <module>\n    app.launch_new_instance()\n  File \"/Users/shaayaansayed/anaconda2/envs/rl/lib/python2.7/site-packages/traitlets/config/application.py\", line 658, in launch_instance\n    app.start()\n  File \"/Users/shaayaansayed/anaconda2/envs/rl/lib/python2.7/site-packages/ipykernel/kernelapp.py\", line 477, in start\n    ioloop.IOLoop.instance().start()\n  File \"/Users/shaayaansayed/anaconda2/envs/rl/lib/python2.7/site-packages/zmq/eventloop/ioloop.py\", line 177, in start\n    super(ZMQIOLoop, self).start()\n  File \"/Users/shaayaansayed/anaconda2/envs/rl/lib/python2.7/site-packages/tornado/ioloop.py\", line 888, in start\n    handler_func(fd_obj, events)\n  File \"/Users/shaayaansayed/anaconda2/envs/rl/lib/python2.7/site-packages/tornado/stack_context.py\", line 277, in null_wrapper\n    return fn(*args, **kwargs)\n  File \"/Users/shaayaansayed/anaconda2/envs/rl/lib/python2.7/site-packages/zmq/eventloop/zmqstream.py\", line 440, in _handle_events\n    self._handle_recv()\n  File \"/Users/shaayaansayed/anaconda2/envs/rl/lib/python2.7/site-packages/zmq/eventloop/zmqstream.py\", line 472, in _handle_recv\n    self._run_callback(callback, msg)\n  File \"/Users/shaayaansayed/anaconda2/envs/rl/lib/python2.7/site-packages/zmq/eventloop/zmqstream.py\", line 414, in _run_callback\n    callback(*args, **kwargs)\n  File \"/Users/shaayaansayed/anaconda2/envs/rl/lib/python2.7/site-packages/tornado/stack_context.py\", line 277, in null_wrapper\n    return fn(*args, **kwargs)\n  File \"/Users/shaayaansayed/anaconda2/envs/rl/lib/python2.7/site-packages/ipykernel/kernelbase.py\", line 283, in dispatcher\n    return self.dispatch_shell(stream, msg)\n  File \"/Users/shaayaansayed/anaconda2/envs/rl/lib/python2.7/site-packages/ipykernel/kernelbase.py\", line 235, in dispatch_shell\n    handler(stream, idents, msg)\n  File \"/Users/shaayaansayed/anaconda2/envs/rl/lib/python2.7/site-packages/ipykernel/kernelbase.py\", line 399, in execute_request\n    user_expressions, allow_stdin)\n  File \"/Users/shaayaansayed/anaconda2/envs/rl/lib/python2.7/site-packages/ipykernel/ipkernel.py\", line 196, in do_execute\n    res = shell.run_cell(code, store_history=store_history, silent=silent)\n  File \"/Users/shaayaansayed/anaconda2/envs/rl/lib/python2.7/site-packages/ipykernel/zmqshell.py\", line 533, in run_cell\n    return super(ZMQInteractiveShell, self).run_cell(*args, **kwargs)\n  File \"/Users/shaayaansayed/anaconda2/envs/rl/lib/python2.7/site-packages/IPython/core/interactiveshell.py\", line 2717, in run_cell\n    interactivity=interactivity, compiler=compiler, result=result)\n  File \"/Users/shaayaansayed/anaconda2/envs/rl/lib/python2.7/site-packages/IPython/core/interactiveshell.py\", line 2821, in run_ast_nodes\n    if self.run_code(code, result):\n  File \"/Users/shaayaansayed/anaconda2/envs/rl/lib/python2.7/site-packages/IPython/core/interactiveshell.py\", line 2881, in run_code\n    exec(code_obj, self.user_global_ns, self.user_ns)\n  File \"<ipython-input-59-4756459d939f>\", line 1, in <module>\n    Q_net = Network(num_actions, scope='Q', summary_dir='./summary/')\n  File \"<ipython-input-58-639dfd4cc0d8>\", line 10, in __init__\n    self.build_network()\n  File \"<ipython-input-58-639dfd4cc0d8>\", line 13, in build_network\n    self.img = tf.placeholder(tf.float32, shape=[None, 84, 84, 1], name=\"X\")\n  File \"/Users/shaayaansayed/anaconda2/envs/rl/lib/python2.7/site-packages/tensorflow/python/ops/array_ops.py\", line 1507, in placeholder\n    name=name)\n  File \"/Users/shaayaansayed/anaconda2/envs/rl/lib/python2.7/site-packages/tensorflow/python/ops/gen_array_ops.py\", line 1997, in _placeholder\n    name=name)\n  File \"/Users/shaayaansayed/anaconda2/envs/rl/lib/python2.7/site-packages/tensorflow/python/framework/op_def_library.py\", line 768, in apply_op\n    op_def=op_def)\n  File \"/Users/shaayaansayed/anaconda2/envs/rl/lib/python2.7/site-packages/tensorflow/python/framework/ops.py\", line 2336, in create_op\n    original_op=self._default_original_op, op_def=op_def)\n  File \"/Users/shaayaansayed/anaconda2/envs/rl/lib/python2.7/site-packages/tensorflow/python/framework/ops.py\", line 1228, in __init__\n    self._traceback = _extract_stack()\n\nInvalidArgumentError (see above for traceback): You must feed a value for placeholder tensor 'X_3' with dtype float\n\t [[Node: X_3 = Placeholder[dtype=DT_FLOAT, shape=[], _device=\"/job:localhost/replica:0/task:0/cpu:0\"]()]]\n",
     "output_type": "error",
     "traceback": [
      "\u001b[0;31m---------------------------------------------------------------------------\u001b[0m",
      "\u001b[0;31mInvalidArgumentError\u001b[0m                      Traceback (most recent call last)",
      "\u001b[0;32m<ipython-input-115-38be4f1628bb>\u001b[0m in \u001b[0;36m<module>\u001b[0;34m()\u001b[0m\n\u001b[1;32m     17\u001b[0m         \u001b[0mTD_targets\u001b[0m \u001b[0;34m=\u001b[0m \u001b[0mreward_batch\u001b[0m \u001b[0;34m+\u001b[0m \u001b[0mmax_Qs\u001b[0m\u001b[0;34m\u001b[0m\u001b[0m\n\u001b[1;32m     18\u001b[0m \u001b[0;34m\u001b[0m\u001b[0m\n\u001b[0;32m---> 19\u001b[0;31m         \u001b[0mQ_net\u001b[0m\u001b[0;34m.\u001b[0m\u001b[0mupdate\u001b[0m\u001b[0;34m(\u001b[0m\u001b[0msess\u001b[0m\u001b[0;34m,\u001b[0m \u001b[0mobs_batch\u001b[0m\u001b[0;34m,\u001b[0m \u001b[0maction_batch\u001b[0m\u001b[0;34m,\u001b[0m \u001b[0mTD_targets\u001b[0m\u001b[0;34m)\u001b[0m\u001b[0;34m\u001b[0m\u001b[0m\n\u001b[0m\u001b[1;32m     20\u001b[0m         \u001b[0mobs_t\u001b[0m \u001b[0;34m=\u001b[0m \u001b[0mpreprocess\u001b[0m\u001b[0;34m(\u001b[0m\u001b[0msess\u001b[0m\u001b[0;34m,\u001b[0m \u001b[0mobs_tp1\u001b[0m\u001b[0;34m)\u001b[0m\u001b[0;34m\u001b[0m\u001b[0m\n",
      "\u001b[0;32m<ipython-input-113-76e798a995da>\u001b[0m in \u001b[0;36mupdate\u001b[0;34m(self, sess, obs_t, A_ix, targets)\u001b[0m\n\u001b[1;32m     48\u001b[0m     \u001b[0;32mdef\u001b[0m \u001b[0mupdate\u001b[0m\u001b[0;34m(\u001b[0m\u001b[0mself\u001b[0m\u001b[0;34m,\u001b[0m \u001b[0msess\u001b[0m\u001b[0;34m,\u001b[0m \u001b[0mobs_t\u001b[0m\u001b[0;34m,\u001b[0m \u001b[0mA_ix\u001b[0m\u001b[0;34m,\u001b[0m \u001b[0mtargets\u001b[0m\u001b[0;34m)\u001b[0m \u001b[0;34m:\u001b[0m\u001b[0;34m\u001b[0m\u001b[0m\n\u001b[1;32m     49\u001b[0m         \u001b[0;32mprint\u001b[0m\u001b[0;34m(\u001b[0m\u001b[0mobs_t\u001b[0m\u001b[0;34m.\u001b[0m\u001b[0mdtype\u001b[0m\u001b[0;34m)\u001b[0m\u001b[0;34m\u001b[0m\u001b[0m\n\u001b[0;32m---> 50\u001b[0;31m         \u001b[0msummaries\u001b[0m \u001b[0;34m=\u001b[0m \u001b[0msess\u001b[0m\u001b[0;34m.\u001b[0m\u001b[0mrun\u001b[0m\u001b[0;34m(\u001b[0m\u001b[0;34m[\u001b[0m\u001b[0mself\u001b[0m\u001b[0;34m.\u001b[0m\u001b[0msummary_op\u001b[0m\u001b[0;34m]\u001b[0m\u001b[0;34m,\u001b[0m                                       \u001b[0;34m{\u001b[0m\u001b[0mself\u001b[0m\u001b[0;34m.\u001b[0m\u001b[0mimg\u001b[0m\u001b[0;34m:\u001b[0m \u001b[0mobs_t\u001b[0m\u001b[0;34m,\u001b[0m \u001b[0mself\u001b[0m\u001b[0;34m.\u001b[0m\u001b[0maction_ix\u001b[0m\u001b[0;34m:\u001b[0m \u001b[0mA_ix\u001b[0m\u001b[0;34m,\u001b[0m \u001b[0mself\u001b[0m\u001b[0;34m.\u001b[0m\u001b[0mtd_target\u001b[0m\u001b[0;34m:\u001b[0m \u001b[0mtargets\u001b[0m\u001b[0;34m}\u001b[0m\u001b[0;34m)\u001b[0m\u001b[0;34m\u001b[0m\u001b[0m\n\u001b[0m\u001b[1;32m     51\u001b[0m \u001b[0;31m#         print(obs_t.dtype)\u001b[0m\u001b[0;34m\u001b[0m\u001b[0;34m\u001b[0m\u001b[0m\n\u001b[1;32m     52\u001b[0m \u001b[0;31m#         loss, _ = sess.run([self.loss, self.train_op], \\\u001b[0m\u001b[0;34m\u001b[0m\u001b[0;34m\u001b[0m\u001b[0m\n",
      "\u001b[0;32m/Users/shaayaansayed/anaconda2/envs/rl/lib/python2.7/site-packages/tensorflow/python/client/session.pyc\u001b[0m in \u001b[0;36mrun\u001b[0;34m(self, fetches, feed_dict, options, run_metadata)\u001b[0m\n\u001b[1;32m    776\u001b[0m     \u001b[0;32mtry\u001b[0m\u001b[0;34m:\u001b[0m\u001b[0;34m\u001b[0m\u001b[0m\n\u001b[1;32m    777\u001b[0m       result = self._run(None, fetches, feed_dict, options_ptr,\n\u001b[0;32m--> 778\u001b[0;31m                          run_metadata_ptr)\n\u001b[0m\u001b[1;32m    779\u001b[0m       \u001b[0;32mif\u001b[0m \u001b[0mrun_metadata\u001b[0m\u001b[0;34m:\u001b[0m\u001b[0;34m\u001b[0m\u001b[0m\n\u001b[1;32m    780\u001b[0m         \u001b[0mproto_data\u001b[0m \u001b[0;34m=\u001b[0m \u001b[0mtf_session\u001b[0m\u001b[0;34m.\u001b[0m\u001b[0mTF_GetBuffer\u001b[0m\u001b[0;34m(\u001b[0m\u001b[0mrun_metadata_ptr\u001b[0m\u001b[0;34m)\u001b[0m\u001b[0;34m\u001b[0m\u001b[0m\n",
      "\u001b[0;32m/Users/shaayaansayed/anaconda2/envs/rl/lib/python2.7/site-packages/tensorflow/python/client/session.pyc\u001b[0m in \u001b[0;36m_run\u001b[0;34m(self, handle, fetches, feed_dict, options, run_metadata)\u001b[0m\n\u001b[1;32m    980\u001b[0m     \u001b[0;32mif\u001b[0m \u001b[0mfinal_fetches\u001b[0m \u001b[0;32mor\u001b[0m \u001b[0mfinal_targets\u001b[0m\u001b[0;34m:\u001b[0m\u001b[0;34m\u001b[0m\u001b[0m\n\u001b[1;32m    981\u001b[0m       results = self._do_run(handle, final_targets, final_fetches,\n\u001b[0;32m--> 982\u001b[0;31m                              feed_dict_string, options, run_metadata)\n\u001b[0m\u001b[1;32m    983\u001b[0m     \u001b[0;32melse\u001b[0m\u001b[0;34m:\u001b[0m\u001b[0;34m\u001b[0m\u001b[0m\n\u001b[1;32m    984\u001b[0m       \u001b[0mresults\u001b[0m \u001b[0;34m=\u001b[0m \u001b[0;34m[\u001b[0m\u001b[0;34m]\u001b[0m\u001b[0;34m\u001b[0m\u001b[0m\n",
      "\u001b[0;32m/Users/shaayaansayed/anaconda2/envs/rl/lib/python2.7/site-packages/tensorflow/python/client/session.pyc\u001b[0m in \u001b[0;36m_do_run\u001b[0;34m(self, handle, target_list, fetch_list, feed_dict, options, run_metadata)\u001b[0m\n\u001b[1;32m   1030\u001b[0m     \u001b[0;32mif\u001b[0m \u001b[0mhandle\u001b[0m \u001b[0;32mis\u001b[0m \u001b[0mNone\u001b[0m\u001b[0;34m:\u001b[0m\u001b[0;34m\u001b[0m\u001b[0m\n\u001b[1;32m   1031\u001b[0m       return self._do_call(_run_fn, self._session, feed_dict, fetch_list,\n\u001b[0;32m-> 1032\u001b[0;31m                            target_list, options, run_metadata)\n\u001b[0m\u001b[1;32m   1033\u001b[0m     \u001b[0;32melse\u001b[0m\u001b[0;34m:\u001b[0m\u001b[0;34m\u001b[0m\u001b[0m\n\u001b[1;32m   1034\u001b[0m       return self._do_call(_prun_fn, self._session, handle, feed_dict,\n",
      "\u001b[0;32m/Users/shaayaansayed/anaconda2/envs/rl/lib/python2.7/site-packages/tensorflow/python/client/session.pyc\u001b[0m in \u001b[0;36m_do_call\u001b[0;34m(self, fn, *args)\u001b[0m\n\u001b[1;32m   1050\u001b[0m         \u001b[0;32mexcept\u001b[0m \u001b[0mKeyError\u001b[0m\u001b[0;34m:\u001b[0m\u001b[0;34m\u001b[0m\u001b[0m\n\u001b[1;32m   1051\u001b[0m           \u001b[0;32mpass\u001b[0m\u001b[0;34m\u001b[0m\u001b[0m\n\u001b[0;32m-> 1052\u001b[0;31m       \u001b[0;32mraise\u001b[0m \u001b[0mtype\u001b[0m\u001b[0;34m(\u001b[0m\u001b[0me\u001b[0m\u001b[0;34m)\u001b[0m\u001b[0;34m(\u001b[0m\u001b[0mnode_def\u001b[0m\u001b[0;34m,\u001b[0m \u001b[0mop\u001b[0m\u001b[0;34m,\u001b[0m \u001b[0mmessage\u001b[0m\u001b[0;34m)\u001b[0m\u001b[0;34m\u001b[0m\u001b[0m\n\u001b[0m\u001b[1;32m   1053\u001b[0m \u001b[0;34m\u001b[0m\u001b[0m\n\u001b[1;32m   1054\u001b[0m   \u001b[0;32mdef\u001b[0m \u001b[0m_extend_graph\u001b[0m\u001b[0;34m(\u001b[0m\u001b[0mself\u001b[0m\u001b[0;34m)\u001b[0m\u001b[0;34m:\u001b[0m\u001b[0;34m\u001b[0m\u001b[0m\n",
      "\u001b[0;31mInvalidArgumentError\u001b[0m: You must feed a value for placeholder tensor 'X_3' with dtype float\n\t [[Node: X_3 = Placeholder[dtype=DT_FLOAT, shape=[], _device=\"/job:localhost/replica:0/task:0/cpu:0\"]()]]\n\nCaused by op u'X_3', defined at:\n  File \"/Users/shaayaansayed/anaconda2/envs/rl/lib/python2.7/runpy.py\", line 174, in _run_module_as_main\n    \"__main__\", fname, loader, pkg_name)\n  File \"/Users/shaayaansayed/anaconda2/envs/rl/lib/python2.7/runpy.py\", line 72, in _run_code\n    exec code in run_globals\n  File \"/Users/shaayaansayed/anaconda2/envs/rl/lib/python2.7/site-packages/ipykernel_launcher.py\", line 16, in <module>\n    app.launch_new_instance()\n  File \"/Users/shaayaansayed/anaconda2/envs/rl/lib/python2.7/site-packages/traitlets/config/application.py\", line 658, in launch_instance\n    app.start()\n  File \"/Users/shaayaansayed/anaconda2/envs/rl/lib/python2.7/site-packages/ipykernel/kernelapp.py\", line 477, in start\n    ioloop.IOLoop.instance().start()\n  File \"/Users/shaayaansayed/anaconda2/envs/rl/lib/python2.7/site-packages/zmq/eventloop/ioloop.py\", line 177, in start\n    super(ZMQIOLoop, self).start()\n  File \"/Users/shaayaansayed/anaconda2/envs/rl/lib/python2.7/site-packages/tornado/ioloop.py\", line 888, in start\n    handler_func(fd_obj, events)\n  File \"/Users/shaayaansayed/anaconda2/envs/rl/lib/python2.7/site-packages/tornado/stack_context.py\", line 277, in null_wrapper\n    return fn(*args, **kwargs)\n  File \"/Users/shaayaansayed/anaconda2/envs/rl/lib/python2.7/site-packages/zmq/eventloop/zmqstream.py\", line 440, in _handle_events\n    self._handle_recv()\n  File \"/Users/shaayaansayed/anaconda2/envs/rl/lib/python2.7/site-packages/zmq/eventloop/zmqstream.py\", line 472, in _handle_recv\n    self._run_callback(callback, msg)\n  File \"/Users/shaayaansayed/anaconda2/envs/rl/lib/python2.7/site-packages/zmq/eventloop/zmqstream.py\", line 414, in _run_callback\n    callback(*args, **kwargs)\n  File \"/Users/shaayaansayed/anaconda2/envs/rl/lib/python2.7/site-packages/tornado/stack_context.py\", line 277, in null_wrapper\n    return fn(*args, **kwargs)\n  File \"/Users/shaayaansayed/anaconda2/envs/rl/lib/python2.7/site-packages/ipykernel/kernelbase.py\", line 283, in dispatcher\n    return self.dispatch_shell(stream, msg)\n  File \"/Users/shaayaansayed/anaconda2/envs/rl/lib/python2.7/site-packages/ipykernel/kernelbase.py\", line 235, in dispatch_shell\n    handler(stream, idents, msg)\n  File \"/Users/shaayaansayed/anaconda2/envs/rl/lib/python2.7/site-packages/ipykernel/kernelbase.py\", line 399, in execute_request\n    user_expressions, allow_stdin)\n  File \"/Users/shaayaansayed/anaconda2/envs/rl/lib/python2.7/site-packages/ipykernel/ipkernel.py\", line 196, in do_execute\n    res = shell.run_cell(code, store_history=store_history, silent=silent)\n  File \"/Users/shaayaansayed/anaconda2/envs/rl/lib/python2.7/site-packages/ipykernel/zmqshell.py\", line 533, in run_cell\n    return super(ZMQInteractiveShell, self).run_cell(*args, **kwargs)\n  File \"/Users/shaayaansayed/anaconda2/envs/rl/lib/python2.7/site-packages/IPython/core/interactiveshell.py\", line 2717, in run_cell\n    interactivity=interactivity, compiler=compiler, result=result)\n  File \"/Users/shaayaansayed/anaconda2/envs/rl/lib/python2.7/site-packages/IPython/core/interactiveshell.py\", line 2821, in run_ast_nodes\n    if self.run_code(code, result):\n  File \"/Users/shaayaansayed/anaconda2/envs/rl/lib/python2.7/site-packages/IPython/core/interactiveshell.py\", line 2881, in run_code\n    exec(code_obj, self.user_global_ns, self.user_ns)\n  File \"<ipython-input-59-4756459d939f>\", line 1, in <module>\n    Q_net = Network(num_actions, scope='Q', summary_dir='./summary/')\n  File \"<ipython-input-58-639dfd4cc0d8>\", line 10, in __init__\n    self.build_network()\n  File \"<ipython-input-58-639dfd4cc0d8>\", line 13, in build_network\n    self.img = tf.placeholder(tf.float32, shape=[None, 84, 84, 1], name=\"X\")\n  File \"/Users/shaayaansayed/anaconda2/envs/rl/lib/python2.7/site-packages/tensorflow/python/ops/array_ops.py\", line 1507, in placeholder\n    name=name)\n  File \"/Users/shaayaansayed/anaconda2/envs/rl/lib/python2.7/site-packages/tensorflow/python/ops/gen_array_ops.py\", line 1997, in _placeholder\n    name=name)\n  File \"/Users/shaayaansayed/anaconda2/envs/rl/lib/python2.7/site-packages/tensorflow/python/framework/op_def_library.py\", line 768, in apply_op\n    op_def=op_def)\n  File \"/Users/shaayaansayed/anaconda2/envs/rl/lib/python2.7/site-packages/tensorflow/python/framework/ops.py\", line 2336, in create_op\n    original_op=self._default_original_op, op_def=op_def)\n  File \"/Users/shaayaansayed/anaconda2/envs/rl/lib/python2.7/site-packages/tensorflow/python/framework/ops.py\", line 1228, in __init__\n    self._traceback = _extract_stack()\n\nInvalidArgumentError (see above for traceback): You must feed a value for placeholder tensor 'X_3' with dtype float\n\t [[Node: X_3 = Placeholder[dtype=DT_FLOAT, shape=[], _device=\"/job:localhost/replica:0/task:0/cpu:0\"]()]]\n"
     ]
    }
   ],
   "source": [
    "for ix in range(num_episodes) :\n",
    "    \n",
    "    done = False\n",
    "    obs_t = env.reset()\n",
    "    obs_t = preprocess(sess, obs_t)\n",
    "    while not done :\n",
    "        A_t = pi(sess, obs_t)\n",
    "        obs_tp1, R_tp1, done, info = env.step(A_t)\n",
    "        \n",
    "        replay_memory.append([obs_t, A_t, R_tp1])\n",
    "        # sample minibatch from replay_memory\n",
    "        replay_sample = random.sample(replay_memory, batch_size)\n",
    "        obs_batch, action_batch, reward_batch = map(np.array, zip(*replay_sample))\n",
    "\n",
    "        target_Qs = target_net.predict(sess, obs_batch)\n",
    "        max_Qs = np.amax(target_Qs, axis=0)\n",
    "        TD_targets = reward_batch + max_Qs\n",
    "\n",
    "        Q_net.update(sess, obs_batch, action_batch, TD_targets)\n",
    "        obs_t = preprocess(sess, obs_tp1)"
   ]
  }
 ],
 "metadata": {
  "kernelspec": {
   "display_name": "Python 2",
   "language": "python",
   "name": "python2"
  },
  "language_info": {
   "codemirror_mode": {
    "name": "ipython",
    "version": 2
   },
   "file_extension": ".py",
   "mimetype": "text/x-python",
   "name": "python",
   "nbconvert_exporter": "python",
   "pygments_lexer": "ipython2",
   "version": "2.7.13"
  }
 },
 "nbformat": 4,
 "nbformat_minor": 2
}
